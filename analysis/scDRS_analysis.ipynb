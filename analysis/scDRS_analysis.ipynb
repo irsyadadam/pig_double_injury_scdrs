{
 "cells": [
  {
   "cell_type": "code",
   "execution_count": 1,
   "metadata": {},
   "outputs": [],
   "source": [
    "import scdrs\n",
    "\n",
    "from scipy import stats\n",
    "import pandas as pd\n",
    "import scanpy as sc\n",
    "from anndata import AnnData\n",
    "\n",
    "sc.set_figure_params(dpi=125)\n",
    "\n",
    "import numpy as np\n",
    "import statsmodels.api as sm\n",
    "\n",
    "import matplotlib.pyplot as plt\n",
    "import seaborn as sns\n",
    "import os\n",
    "\n",
    "import warnings\n",
    "\n",
    "warnings.filterwarnings(\"ignore\")"
   ]
  },
  {
   "cell_type": "code",
   "execution_count": 8,
   "metadata": {},
   "outputs": [
    {
     "name": "stdout",
     "output_type": "stream",
     "text": [
      "******************************************************************************\n",
      "* Single-cell disease relevance score (scDRS)\n",
      "* Version 1.0.0\n",
      "* Martin Jinye Zhang and Kangcheng Hou\n",
      "* HSPH / Broad Institute / UCLA\n",
      "* MIT License\n",
      "******************************************************************************\n",
      "Call: scdrs munge-gs \\\n",
      "--zscore-file ../magma_out/step2/ShahS_31919418_HeartFailure.genes.out\\\n",
      "--weight zscore\\\n",
      "--n-min 100\\\n",
      "--n-max 1000\\\n",
      "--out-file ../scdrs_data/munged_data.gs\n",
      "\n",
      "--zscore-file loaded: n_gene=18659, n_trait=0 (sys_time=0.0s)\n",
      "Print info for the first 3 traits and first 10 genes\n",
      "Traits               []\n",
      "105378580    1     793398     815130     29       4  843687      0.68636      0.24624 []\n",
      "148398       1     915741     954581    128      12  849760      0.80483      0.21046 []\n",
      "26155        1     934203     969299     93      10  814112      0.87568       0.1906 []\n",
      "339451       1     949952     975720     73       7  798590       1.1844      0.11813 []\n",
      "84069        1     956497     985108     69       6  849976       1.2978     0.097177 []\n",
      "84808        1     965199     992117     58       5  864615       1.4455     0.074159 []\n",
      "57801        1     988962    1011285     49       8  866053      0.50075      0.30827 []\n",
      "9636         1    1003467    1024540     50       6  903563       0.5484      0.29171 []\n",
      "375790       1    1010101    1066119    188      15  882091       1.0472      0.14749 []\n",
      "105369174    1    1051207    1076390    101      12  880289       1.1614      0.12275 []\n",
      "Warning: zscore-file values are all between 0 and 1.\n",
      "\n",
      "Finish munging 0 gene sets (sys_time=0.0s)\n"
     ]
    }
   ],
   "source": [
    "#convert the data using scdrs\n",
    "!scdrs munge-gs \\\n",
    "    --out-file ../scdrs_data/munged_data.gs \\\n",
    "    --zscore-file ../magma_out/step2/ShahS_31919418_HeartFailure.genes.out \\\n",
    "    --weight zscore \\\n",
    "    --n-max 1000\n"
   ]
  },
  {
   "cell_type": "code",
   "execution_count": null,
   "metadata": {},
   "outputs": [],
   "source": [
    "adata = sc.read_h5ad(\"../scdrs_data/scanpy_double_injury_50PCA_20neighbors.h5ad\")\n",
    "df_gs = pd.read_csv(\"../magma_out/step2/ShahS_31919418_HeartFailure.genes.out\", sep=\"\\t\", index_col=0)\n"
   ]
  }
 ],
 "metadata": {
  "kernelspec": {
   "display_name": "Python 3.10.4 ('multiomics_integration')",
   "language": "python",
   "name": "python3"
  },
  "language_info": {
   "codemirror_mode": {
    "name": "ipython",
    "version": 3
   },
   "file_extension": ".py",
   "mimetype": "text/x-python",
   "name": "python",
   "nbconvert_exporter": "python",
   "pygments_lexer": "ipython3",
   "version": "3.10.4"
  },
  "orig_nbformat": 4,
  "vscode": {
   "interpreter": {
    "hash": "4da1f62f9baebd537c3e678555deb3b178fd350b0a39aa30fd280a12be15ad9e"
   }
  }
 },
 "nbformat": 4,
 "nbformat_minor": 2
}
